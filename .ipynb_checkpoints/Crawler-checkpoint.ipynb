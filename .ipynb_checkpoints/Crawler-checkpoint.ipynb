{
 "cells": [
  {
   "cell_type": "code",
   "execution_count": 1,
   "id": "fdabd8c3",
   "metadata": {},
   "outputs": [],
   "source": [
    "import requests\n",
    "import pandas as pd\n",
    "import io\n",
    "import time"
   ]
  },
  {
   "cell_type": "code",
   "execution_count": 31,
   "id": "659dd588",
   "metadata": {},
   "outputs": [
    {
     "name": "stdout",
     "output_type": "stream",
     "text": [
      "Done\n",
      "Done\n",
      "Done\n",
      "Done\n",
      "Done\n"
     ]
    }
   ],
   "source": [
    "def crawler_url(url, filename):\n",
    "    res = requests.get(url)\n",
    "    # 是否訪問成功\n",
    "    if res.status_code == 200:\n",
    "        # 用pandas輸出成csv檔\n",
    "        try:\n",
    "            data = io.StringIO(res.text)\n",
    "            df = pd.read_csv(data, sep=\",\")\n",
    "            df.to_csv(f'{filename}_lvr_land_a.csv')\n",
    "            \n",
    "        # 看是否有例外出現\n",
    "        except Exception as e:\n",
    "            print(e)\n",
    "            \n",
    "        # Print done\n",
    "        finally:\n",
    "            print(\"Done\")\n",
    "    else:\n",
    "        print('Failed')\n",
    "        return \n",
    "    \n",
    "if __name__ == \"__main__\":\n",
    "    \n",
    "    # 五個縣市用dict標記代表的英文字母\n",
    "    city_dict = {\"Taipei\":\"a\", \"New Taipei\":\"f\", \"Taoyuan\":\"h\", \"Taichung\":\"b\", \"Kaohsiung\":\"e\"}\n",
    "    \n",
    "    # 跑爬蟲\n",
    "    for city in city_dict:\n",
    "        city_id = city_dict[city]\n",
    "        url = f\"https://plvr.land.moi.gov.tw//DownloadSeason?season=108S2&fileName={city_id}_lvr_land_A.csv\"\n",
    "        crawler_url(url.format(city_id), city_dict[city])\n",
    "        \n",
    "        time.sleep(2)"
   ]
  }
 ],
 "metadata": {
  "kernelspec": {
   "display_name": "Python 3 (ipykernel)",
   "language": "python",
   "name": "python3"
  },
  "language_info": {
   "codemirror_mode": {
    "name": "ipython",
    "version": 3
   },
   "file_extension": ".py",
   "mimetype": "text/x-python",
   "name": "python",
   "nbconvert_exporter": "python",
   "pygments_lexer": "ipython3",
   "version": "3.10.5"
  }
 },
 "nbformat": 4,
 "nbformat_minor": 5
}
